{
 "cells": [
  {
   "cell_type": "code",
   "execution_count": 2,
   "id": "ed007617",
   "metadata": {},
   "outputs": [],
   "source": [
    "import numpy as np\n"
   ]
  },
  {
   "cell_type": "code",
   "execution_count": 4,
   "id": "f8892737",
   "metadata": {},
   "outputs": [],
   "source": [
    "heights = np.array([160, 155, 172, 165, 180, 158, 175, 163, 171, 168])"
   ]
  },
  {
   "cell_type": "markdown",
   "id": "dadcbc37",
   "metadata": {},
   "source": [
    "mean"
   ]
  },
  {
   "cell_type": "code",
   "execution_count": 5,
   "id": "66740a47",
   "metadata": {},
   "outputs": [
    {
     "name": "stdout",
     "output_type": "stream",
     "text": [
      "166.7\n"
     ]
    }
   ],
   "source": [
    "import numpy as np\n",
    "mean = np.mean(heights)\n",
    "print(mean)"
   ]
  },
  {
   "cell_type": "markdown",
   "id": "8cd80c1c",
   "metadata": {},
   "source": [
    "median"
   ]
  },
  {
   "cell_type": "code",
   "execution_count": 6,
   "id": "e0811874",
   "metadata": {},
   "outputs": [
    {
     "name": "stdout",
     "output_type": "stream",
     "text": [
      "166.5\n"
     ]
    }
   ],
   "source": [
    "median = np.median(heights)\n",
    "print(median)"
   ]
  },
  {
   "cell_type": "markdown",
   "id": "f05a0b13",
   "metadata": {},
   "source": [
    "standard deviation"
   ]
  },
  {
   "cell_type": "code",
   "execution_count": 8,
   "id": "71c35e16",
   "metadata": {},
   "outputs": [
    {
     "name": "stdout",
     "output_type": "stream",
     "text": [
      "7.5372408744845085\n"
     ]
    }
   ],
   "source": [
    "standard_deviation = np.std(heights)\n",
    "print(standard_deviation)"
   ]
  },
  {
   "cell_type": "markdown",
   "id": "9df06055",
   "metadata": {},
   "source": [
    "creating a new array"
   ]
  },
  {
   "cell_type": "code",
   "execution_count": 15,
   "id": "a3c7483c",
   "metadata": {},
   "outputs": [
    {
     "name": "stdout",
     "output_type": "stream",
     "text": [
      "[11.87176411 11.8105865  11.36738889 12.20198704 12.79491196 12.90188849\n",
      " 12.74955033 10.27116742 10.37288256 13.01301753]\n"
     ]
    }
   ],
   "source": [
    "import numpy as np\n",
    "heights = np.random.uniform(10,15, size=10)\n",
    "print(heights)"
   ]
  },
  {
   "cell_type": "markdown",
   "id": "a089801f",
   "metadata": {},
   "source": [
    "tallest and shortest student\n"
   ]
  },
  {
   "cell_type": "code",
   "execution_count": 16,
   "id": "80f61b3a",
   "metadata": {},
   "outputs": [
    {
     "name": "stdout",
     "output_type": "stream",
     "text": [
      "9\n"
     ]
    }
   ],
   "source": [
    "tallest = np.argmax(heights)\n",
    "print(tallest)"
   ]
  },
  {
   "cell_type": "code",
   "execution_count": 17,
   "id": "45226fe5",
   "metadata": {},
   "outputs": [
    {
     "name": "stdout",
     "output_type": "stream",
     "text": [
      "7\n"
     ]
    }
   ],
   "source": [
    "shortest = np.argmin(heights)\n",
    "print(shortest)"
   ]
  },
  {
   "cell_type": "markdown",
   "id": "ea450249",
   "metadata": {},
   "source": [
    "diffrence between the shortest and tallest student\n"
   ]
  },
  {
   "cell_type": "code",
   "execution_count": 18,
   "id": "d89ba57e",
   "metadata": {},
   "outputs": [
    {
     "name": "stdout",
     "output_type": "stream",
     "text": [
      "2.741850106434862\n"
     ]
    }
   ],
   "source": [
    "import numpy as np\n",
    "t = np.max(heights)\n",
    "s = np.min(heights)\n",
    "z = t - s\n",
    "print(z)"
   ]
  },
  {
   "cell_type": "code",
   "execution_count": 21,
   "id": "157fe6c8",
   "metadata": {},
   "outputs": [
    {
     "name": "stdout",
     "output_type": "stream",
     "text": [
      "[12.79491196 11.87176411 12.90188849 11.36738889 12.74955033]\n"
     ]
    }
   ],
   "source": [
    "sample = np.random.choice(heights, 5, replace=False)\n",
    "print(sample)"
   ]
  },
  {
   "cell_type": "code",
   "execution_count": null,
   "id": "bc3383d0",
   "metadata": {},
   "outputs": [],
   "source": []
  }
 ],
 "metadata": {
  "kernelspec": {
   "display_name": "Python 3 (ipykernel)",
   "language": "python",
   "name": "python3"
  },
  "language_info": {
   "codemirror_mode": {
    "name": "ipython",
    "version": 3
   },
   "file_extension": ".py",
   "mimetype": "text/x-python",
   "name": "python",
   "nbconvert_exporter": "python",
   "pygments_lexer": "ipython3",
   "version": "3.11.3"
  }
 },
 "nbformat": 4,
 "nbformat_minor": 5
}
